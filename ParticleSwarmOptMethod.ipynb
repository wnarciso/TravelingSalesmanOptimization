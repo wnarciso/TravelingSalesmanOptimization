{
 "cells": [
  {
   "cell_type": "markdown",
   "metadata": {},
   "source": [
    "Samuel Vilchez: Testing Particle Swarm Optimization Method on the 48 Capitals \n",
    "\n",
    "We will be using the Graph, Particle, and PSO classes from tsp_pso https://github.com/marcoscastro/tsp_pso/blob/master/tsp_pso.py to apply the Particle swarm optimization method on the traveling salesman problem. "
   ]
  },
  {
   "cell_type": "code",
   "execution_count": 27,
   "metadata": {},
   "outputs": [],
   "source": [
    "from operator import attrgetter\n",
    "import random, sys, time, copy, math"
   ]
  },
  {
   "cell_type": "markdown",
   "metadata": {},
   "source": [
    "This is a basic Graph class obtained by tsp_pso which has an extra function from that of a typical graph to obtain a set of randomPaths. The randomness is used to caculate the initial particles for the Particle Swarm Optimization Algorithm."
   ]
  },
  {
   "cell_type": "code",
   "execution_count": 28,
   "metadata": {},
   "outputs": [],
   "source": [
    "#This class was obtained by tsp_pso and redefined here\n",
    "class Graph:\n",
    "    def __init__(self, amount_vertices):\n",
    "        self.edges = {} \n",
    "        self.vertices = set()\n",
    "        self.amount_vertices = amount_vertices\n",
    "        \n",
    "    def addEdge(self, src, dest, cost = 0):\n",
    "        if not self.existsEdge(src, dest):\n",
    "                self.edges[(src, dest)] = cost\n",
    "                self.vertices.add(src)\n",
    "                self.vertices.add(dest)\n",
    "                \n",
    "    def existsEdge(self, src, dest):\n",
    "        return (True if (src, dest) in self.edges else False)\n",
    "    \n",
    "    def getCostPath(self, path):\n",
    "        total_cost = 0\n",
    "        for i in range(self.amount_vertices - 1):\n",
    "            total_cost += self.edges[(path[i], path[i+1])]\n",
    "            \n",
    "        total_cost += self.edges[(path[self.amount_vertices - 1], path[0])]\n",
    "        return total_cost\n",
    "    \n",
    "    def getRandomPaths(self, max_size):\n",
    "        random_paths, list_vertices = [], list(self.vertices)\n",
    "        initial_vertices = random.choice(list_vertices)\n",
    "        if initial_vertices not in list_vertices:\n",
    "            sys.exit(1)\n",
    "        \n",
    "        list_vertices.remove(initial_vertices)\n",
    "        list_vertices.insert(0, initial_vertices)\n",
    "        \n",
    "        for i in range(max_size):\n",
    "            list_temp = list_vertices[1:]\n",
    "            random.shuffle(list_temp)\n",
    "            list_temp.insert(0, initial_vertices)\n",
    "            if list_temp not in random_paths:\n",
    "                random_paths.append(list_temp)\n",
    "                \n",
    "        return random_paths"
   ]
  },
  {
   "cell_type": "code",
   "execution_count": 29,
   "metadata": {},
   "outputs": [],
   "source": [
    "#This class was obtained by tsp_pso and redefined here\n",
    "class Particle:\n",
    "    def __init__(self, solution, cost):\n",
    "        self.solution = solution\n",
    "        self.pbest = solution\n",
    "        self.cost_current_solution = cost\n",
    "        self.cost_pbest_solution = cost\n",
    "        self.velocity = []\n",
    "    \n",
    "    def setPBest(self, new_pbest):\n",
    "        self.pbest = new_pbest\n",
    "    \n",
    "    def getPBest(self):\n",
    "        return self.pbest\n",
    "    \n",
    "    def setVelocity(self, new_velocity):\n",
    "        self.velocity = new_velocity\n",
    "        \n",
    "    def getVelocity(self):\n",
    "        return self.velocity \n",
    "    \n",
    "    def setCurrentSolution(self, solution):\n",
    "        self.solution = solution\n",
    "        \n",
    "    def getCurrentSolution(self):\n",
    "        return self.solution\n",
    "    \n",
    "    def setCostPBest(self, cost):\n",
    "        self.cost_pbest_solution = cost\n",
    "        \n",
    "    def getCostPBest(self):\n",
    "        return self.cost_pbest_solution\n",
    "    \n",
    "    def setCostCurrentSolution(self, cost):\n",
    "        self.cost_current_solution = cost\n",
    "        \n",
    "    def getCostCurrentSolution(self):\n",
    "        return self.cost_current_solution\n",
    "    \n",
    "    def clearVelocity(self):\n",
    "        del self.velocity[:]"
   ]
  },
  {
   "cell_type": "markdown",
   "metadata": {},
   "source": [
    "The following class will initialize a fixed sized population with initially random particles (which can be viewed as paths for the graph). The parameters include a graph, the max number of iterations, fixed sized population, and probabilities for the swap operators used to swap elements from a path (particle). It will then set a global best path of the randomized paths. Next, the run function from tsp_pso will update the position and velocity information for each particle at each iteration. Fitness values are evaluated, compared and replaced if better values are obtained."
   ]
  },
  {
   "cell_type": "code",
   "execution_count": 30,
   "metadata": {},
   "outputs": [],
   "source": [
    "#This class was obtained by tsp_pso and redefined here\n",
    "class PSO:\n",
    "    def __init__(self, graph, iterations, size_population, beta=1, alfa=1):\n",
    "        self.graph = graph # the graph\n",
    "        self.iterations = iterations # max of iterations\n",
    "        self.size_population = size_population # size population\n",
    "        self.particles = [] # list of particles\n",
    "        self.beta = beta # the probability that all swap operators in swap sequence (gbest - x(t-1))\n",
    "        self.alfa = alfa # the probability that all swap operators in swap sequence (pbest - x(t-1))\n",
    "\n",
    "        # initialized with a group of random particles (solutions)\n",
    "        solutions = self.graph.getRandomPaths(self.size_population)\n",
    "\n",
    "        # checks if exists any solution\n",
    "        if not solutions:\n",
    "            print('Initial population empty! Try run the algorithm again...')\n",
    "            sys.exit(1)\n",
    "\n",
    "        # creates the particles and initialization of swap sequences in all the particles\n",
    "        for solution in solutions:\n",
    "            # creates a new particle\n",
    "            particle = Particle(solution=solution, cost=graph.getCostPath(solution))\n",
    "            # add the particle\n",
    "            self.particles.append(particle)\n",
    "\n",
    "        # updates \"size_population\"\n",
    "        self.size_population = len(self.particles)\n",
    "\n",
    "\n",
    "    # set gbest (best particle of the population)\n",
    "    def setGBest(self, new_gbest):\n",
    "        self.gbest = new_gbest\n",
    "\n",
    "    # returns gbest (best particle of the population)\n",
    "    def getGBest(self):\n",
    "        return self.gbest\n",
    "\n",
    "    def run(self):\n",
    "        # for each time step (iteration)\n",
    "        for t in range(self.iterations):\n",
    "            # updates gbest (best particle of the population)\n",
    "            self.gbest = min(self.particles, key=attrgetter('cost_pbest_solution'))\n",
    "\n",
    "            # for each particle in the swarm\n",
    "            for particle in self.particles:\n",
    "\n",
    "                particle.clearVelocity() # cleans the speed of the particle\n",
    "                temp_velocity = []\n",
    "                solution_gbest = copy.copy(self.gbest.getPBest()) # gets solution of the gbest\n",
    "                solution_pbest = particle.getPBest()[:] # copy of the pbest solution\n",
    "                solution_particle = particle.getCurrentSolution()[:] # gets copy of the current solution of the particle\n",
    "\n",
    "                # generates all swap operators to calculate (pbest - x(t-1))\n",
    "                for i in range(self.graph.amount_vertices):\n",
    "                    if solution_particle[i] != solution_pbest[i]:\n",
    "                        # generates swap operator\n",
    "                        swap_operator = (i, solution_pbest.index(solution_particle[i]), self.alfa)\n",
    "\n",
    "                        # append swap operator in the list of velocity\n",
    "                        temp_velocity.append(swap_operator)\n",
    "\n",
    "                        # makes the swap\n",
    "                        aux = solution_pbest[swap_operator[0]]\n",
    "                        solution_pbest[swap_operator[0]] = solution_pbest[swap_operator[1]]\n",
    "                        solution_pbest[swap_operator[1]] = aux\n",
    "                \n",
    "                # generates all swap operators to calculate (gbest - x(t-1))\n",
    "                for i in range(self.graph.amount_vertices):\n",
    "                    if solution_particle[i] != solution_gbest[i]:\n",
    "                        # generates swap operator\n",
    "                        swap_operator = (i, solution_gbest.index(solution_particle[i]), self.beta)\n",
    "\n",
    "                        # append swap operator in the list of velocity\n",
    "                        temp_velocity.append(swap_operator)\n",
    "\n",
    "                        # makes the swap\n",
    "                        aux = solution_gbest[swap_operator[0]]\n",
    "                        solution_gbest[swap_operator[0]] = solution_gbest[swap_operator[1]]\n",
    "                        solution_gbest[swap_operator[1]] = aux\n",
    "\n",
    "                # updates velocity\n",
    "                particle.setVelocity(temp_velocity)\n",
    "\n",
    "                # generates new solution for particle\n",
    "                for swap_operator in temp_velocity:\n",
    "                    if random.random() <= swap_operator[2]:\n",
    "                        # makes the swap\n",
    "                        aux = solution_particle[swap_operator[0]]\n",
    "                        solution_particle[swap_operator[0]] = solution_particle[swap_operator[1]]\n",
    "                        solution_particle[swap_operator[1]] = aux\n",
    "            \n",
    "                # updates the current solution\n",
    "                particle.setCurrentSolution(solution_particle)\n",
    "                # gets cost of the current solution\n",
    "                cost_current_solution = self.graph.getCostPath(solution_particle)\n",
    "                # updates the cost of the current solution\n",
    "                particle.setCostCurrentSolution(cost_current_solution)\n",
    "\n",
    "                # checks if current solution is pbest solution\n",
    "                if cost_current_solution < particle.getCostPBest():\n",
    "                    particle.setPBest(solution_particle)\n",
    "                    particle.setCostPBest(cost_current_solution)"
   ]
  },
  {
   "cell_type": "markdown",
   "metadata": {},
   "source": [
    "Here we declare the coordinates for the 48 different capitals. We then create a child class with a parent class of Graph from tsp_pso. We use the distance formula to calculate the weights for all edges."
   ]
  },
  {
   "cell_type": "code",
   "execution_count": 31,
   "metadata": {},
   "outputs": [],
   "source": [
    "coordinates = [6734, 1453, 2233, 10, 5530, 1424, 401, 841, 3082, 1644, 7608, 4458, 7573, 3716, 7265, 1268, 6898, 1885, 1112, 2049, 5468, 2606,\n",
    "5989, 2873, 4706, 2674, 4612, 2035, 6347, 2683, 6107, 669, 7611, 5184, 7462, 3590, 7732, 4723, 5900, 3561, 4483, 3369, 6101, 1110,\n",
    "5199, 2182, 1633, 2809, 4307, 2322, 675, 1006, 7555, 4819, 7541, 3981, 3177, 756, 7352, 4506, 7545, 2801, 3245, 3305, 6426, 3173,\n",
    "4608, 1198, 23, 2216, 7248, 3779, 7762, 4595, 7392, 2244, 3484, 2829, 6271, 2135, 4985, 140, 1916, 1569, 7280, 4899, 7509, 3239,\n",
    "10, 2676, 6807, 2993, 5185, 3258, 3023, 1942];\n",
    "\n",
    "class USGraph(Graph):\n",
    "    #The following will generate a graph with every vertex being adjacent to one another\n",
    "    def create(self):\n",
    "        for i in range(self.amount_vertices):\n",
    "            for j in range(self.amount_vertices):\n",
    "                if i != j: \n",
    "                    weight = math.sqrt(pow(coordinates[2*i] - coordinates[2*j],2) + pow(coordinates[2*i+1] - coordinates[2*j+1], 2));\n",
    "                    self.addEdge(i, j, weight)"
   ]
  },
  {
   "cell_type": "markdown",
   "metadata": {},
   "source": [
    "We will use the PSO class to run the Particle Swarm Optimization method on the 48 different capitals. We will use 1000 iterations with a population size of 20. "
   ]
  },
  {
   "cell_type": "code",
   "execution_count": 32,
   "metadata": {},
   "outputs": [
    {
     "name": "stdout",
     "output_type": "stream",
     "text": [
      "gbest: [34, 38, 23, 4, 47, 28, 25, 3, 44, 9, 27, 26, 29, 6, 8, 42, 18, 35, 41, 7, 46, 20, 40, 14, 22, 33, 10, 43, 31, 13, 0, 36, 16, 12, 19, 11, 17, 39, 5, 30, 21, 24, 45, 32, 37, 15, 2, 1] \n",
      "The fitness score at this state is: 101595\n",
      "\n",
      "The elapsed time is: 2.72\n"
     ]
    }
   ],
   "source": [
    "graph = USGraph(amount_vertices = 48)\n",
    "graph.create()\n",
    "psoGraph = PSO(graph, iterations = 1000, size_population = 20, beta = 1, alfa = 1)\n",
    "start_time = time.time()\n",
    "psoGraph.run()\n",
    "elapsed_time = time.time() - start_time\n",
    "print('gbest: %s \\nThe fitness score at this state is: %d\\n' % \n",
    "      (psoGraph.getGBest().getPBest(), psoGraph.getGBest().getCostPBest()))\n",
    "print(\"The elapsed time is: {0:.2f}\".format(elapsed_time))"
   ]
  },
  {
   "cell_type": "markdown",
   "metadata": {},
   "source": [
    "| Method | Time Elapsed(s) | Min Cost Route |\n",
    "| --- | --- | --- |\n",
    "| Particle Swarm Method | 2.72 | 101595 |"
   ]
  }
 ],
 "metadata": {
  "kernelspec": {
   "display_name": "Python 3",
   "language": "python",
   "name": "python3"
  },
  "language_info": {
   "codemirror_mode": {
    "name": "ipython",
    "version": 3
   },
   "file_extension": ".py",
   "mimetype": "text/x-python",
   "name": "python",
   "nbconvert_exporter": "python",
   "pygments_lexer": "ipython3",
   "version": "3.8.5"
  }
 },
 "nbformat": 4,
 "nbformat_minor": 4
}
