{
 "cells": [
  {
   "cell_type": "markdown",
   "metadata": {},
   "source": [
    "William: Genetic Algorithm for the Traveling Salesperson"
   ]
  },
  {
   "cell_type": "markdown",
   "metadata": {},
   "source": [
    "We will be exploring various optimization methods on the traveling Salesperson Problem. The traveling salesperson is defined as such: \"Given a list of cities and the distances between each pair of cities, what is the shortest possible route that visits each city exactly once and returns to the origin city?\""
   ]
  },
  {
   "cell_type": "code",
   "execution_count": 5,
   "metadata": {},
   "outputs": [],
   "source": [
    "import six\n",
    "import sys\n",
    "sys.modules['sklearn.externals.six'] = six\n",
    "import mlrose\n",
    "import numpy as np"
   ]
  },
  {
   "cell_type": "markdown",
   "metadata": {},
   "source": [
    "We will be using the a 3rd party library called mlrose to apply a randomized optimization algorithm to help solve the Traveling Salseperson Problem. This can be found at https://github.com/gkhayes/mlrose on github. mlrose has a pre-defined TravelingSales class which we can use by defining a fitness function and fitness object."
   ]
  },
  {
   "cell_type": "markdown",
   "metadata": {},
   "source": [
    "We shall define the cities using x,y coordinates and the distance between the pair of cities is the Euclidean distance. Beginning a simple optimization with six cities. "
   ]
  },
  {
   "cell_type": "code",
   "execution_count": 7,
   "metadata": {},
   "outputs": [],
   "source": [
    "cities = [(2,3), (3,7), (5,8), (2,6), (1,5), (3,1)]\n",
    "fitness_object = mlrose.TravellingSales(coords = cities)"
   ]
  },
  {
   "cell_type": "markdown",
   "metadata": {},
   "source": [
    "We have to initialize a TSPOpt() object for the minimization problem."
   ]
  },
  {
   "cell_type": "code",
   "execution_count": 9,
   "metadata": {},
   "outputs": [],
   "source": [
    "minimize = mlrose.TSPOpt(length = 6, fitness_fn=fitness_object, maximize=False)"
   ]
  },
  {
   "cell_type": "markdown",
   "metadata": {},
   "source": [
    "We can then use a genetic algorithm to start minimizing the problem. mlrose will return a final state which is the best route to all the cities that were provided, while the fitness score will the be the length (in terms of euclidean distance) of that route. The parameters to the genetic algorithm will be a population size of 150, mutation probability of 0.2 and a max attempts of 10."
   ]
  },
  {
   "cell_type": "code",
   "execution_count": 11,
   "metadata": {},
   "outputs": [
    {
     "name": "stdout",
     "output_type": "stream",
     "text": [
      "The best route to all the cities is:  [3 4 0 5 2 1]\n",
      "The fitness score at this state is:  16.816740946526078\n"
     ]
    }
   ],
   "source": [
    "final_state, final_fitness = mlrose.genetic_alg(minimize, pop_size = 150, mutation_prob = 0.2, random_state = 237658)\n",
    "print(\"The best route to all the cities is: \", final_state)\n",
    "print(\"The fitness score at this state is: \", final_fitness)"
   ]
  }
 ],
 "metadata": {
  "kernelspec": {
   "display_name": "Python 3",
   "language": "python",
   "name": "python3"
  },
  "language_info": {
   "codemirror_mode": {
    "name": "ipython",
    "version": 3
   },
   "file_extension": ".py",
   "mimetype": "text/x-python",
   "name": "python",
   "nbconvert_exporter": "python",
   "pygments_lexer": "ipython3",
   "version": "3.8.5"
  }
 },
 "nbformat": 4,
 "nbformat_minor": 4
}
