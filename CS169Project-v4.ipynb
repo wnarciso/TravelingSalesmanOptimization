{
 "cells": [
  {
   "cell_type": "markdown",
   "metadata": {},
   "source": [
    "William: Genetic Algorithm for the Traveling Salesperson\n",
    "\n",
    "Mowhebat: Added Simulated Annealing approach + new dataset"
   ]
  },
  {
   "cell_type": "markdown",
   "metadata": {},
   "source": [
    "We will be exploring various optimization methods on the traveling Salesperson Problem. The traveling salesperson is defined as such: \"Given a list of cities and the distances between each pair of cities, what is the shortest possible route that visits each city exactly once and returns to the origin city?\""
   ]
  },
  {
   "cell_type": "code",
   "execution_count": 1,
   "metadata": {},
   "outputs": [],
   "source": [
    "import six\n",
    "import sys\n",
    "sys.modules['sklearn.externals.six'] = six\n",
    "import mlrose\n",
    "import numpy as np\n",
    "import matplotlib.pyplot as plt\n",
    "import time"
   ]
  },
  {
   "cell_type": "markdown",
   "metadata": {},
   "source": [
    "We will be using the a 3rd party library called mlrose to apply a randomized optimization algorithm to help solve the Traveling Salseperson Problem. This can be found at https://github.com/gkhayes/mlrose on github. mlrose has a pre-defined TravelingSales class which we can use by defining a fitness function and fitness object."
   ]
  },
  {
   "cell_type": "markdown",
   "metadata": {},
   "source": [
    "We shall define the cities using x,y coordinates and the distance between the pair of cities is the Euclidean distance. Beginning a simple optimization with six cities. "
   ]
  },
  {
   "cell_type": "code",
   "execution_count": 2,
   "metadata": {},
   "outputs": [],
   "source": [
    "cities = [[2,3], [3,7], [5,8], [2,6], [1,5], [3,1]]\n",
    "cities = np.array(cities)\n",
    "fitness_object = mlrose.TravellingSales(coords = cities)"
   ]
  },
  {
   "cell_type": "markdown",
   "metadata": {},
   "source": [
    "We have to initialize a TSPOpt() object for the minimization problem."
   ]
  },
  {
   "cell_type": "code",
   "execution_count": 3,
   "metadata": {},
   "outputs": [],
   "source": [
    "minimize = mlrose.TSPOpt(length = 6, fitness_fn=fitness_object, maximize=False)"
   ]
  },
  {
   "cell_type": "markdown",
   "metadata": {},
   "source": [
    "We can then use a genetic algorithm to start minimizing the problem. mlrose will return a final state which is the best route to all the cities that were provided, while the fitness score will the be the length (in terms of euclidean distance) of that route. The parameters to the genetic algorithm will be a population size of 150, mutation probability of 0.2 and a max attempts of 10."
   ]
  },
  {
   "cell_type": "code",
   "execution_count": 4,
   "metadata": {},
   "outputs": [
    {
     "name": "stdout",
     "output_type": "stream",
     "text": [
      "The best route to all the cities is:  [3 4 0 5 2 1]\n",
      "The fitness score at this state is:  16.816740946526078\n"
     ]
    }
   ],
   "source": [
    "final_state, final_fitness = mlrose.genetic_alg(minimize, pop_size = 150, mutation_prob = 0.2, random_state = 237658)\n",
    "print(\"The best route to all the cities is: \", final_state)\n",
    "print(\"The fitness score at this state is: \", final_fitness)"
   ]
  },
  {
   "cell_type": "code",
   "execution_count": 5,
   "metadata": {},
   "outputs": [
    {
     "data": {
      "image/png": "[encoded data removed]",
      "text/plain": [
       "<Figure size 432x288 with 1 Axes>"
      ]
     },
     "metadata": {
      "needs_background": "light"
     },
     "output_type": "display_data"
    }
   ],
   "source": [
    "# Reorder the cities matrix by route order in a new matrix for plotting.\n",
    "new_cities_order = np.concatenate((np.array([cities[final_state[i]] for i in range(len(final_state))]),np.array([cities[0]])))\n",
    "# Plot the cities.\n",
    "plt.scatter(cities[:,0],cities[:,1])\n",
    "# Plot the path.\n",
    "plt.plot(new_cities_order[:,0],new_cities_order[:,1])\n",
    "plt.show()"
   ]
  },
  {
   "cell_type": "markdown",
   "metadata": {},
   "source": [
    "Now, we are trying to use more complex dataset. We are using the coordinate of 48 capitals of the US (att48), which can be found at http://elib.zib.de/pub/mp-testdata/tsp/tsplib/tsplib.html. "
   ]
  },
  {
   "cell_type": "code",
   "execution_count": 6,
   "metadata": {},
   "outputs": [],
   "source": [
    "# Open input file\n",
    "infile = open('att48.tsp', 'r')\n",
    "\n",
    "# Read instance header\n",
    "Name = infile.readline().strip().split()[2] # NAME\n",
    "Comment = infile.readline().strip().split()[2] # COMMENT\n",
    "FileType = infile.readline().strip().split()[2] # TYPE\n",
    "Dimension = infile.readline().strip().split()[2] # DIMENSION\n",
    "EdgeWeightType = infile.readline().strip().split()[2] # EDGE_WEIGHT_TYPE\n",
    "infile.readline()\n",
    "\n",
    "# Read node list\n",
    "cities = []\n",
    "N = int(Dimension)\n",
    "for i in range(0, N):\n",
    "    x,y = infile.readline().strip().split()[1:]\n",
    "    cities.append((int(x), int(y)))\n",
    "\n",
    "# Close input file\n",
    "infile.close()"
   ]
  },
  {
   "cell_type": "code",
   "execution_count": 7,
   "metadata": {},
   "outputs": [],
   "source": [
    "fitness_object = mlrose.TravellingSales(coords = cities)"
   ]
  },
  {
   "cell_type": "markdown",
   "metadata": {},
   "source": [
    "We have to initialize a TSPOpt() object for the minimization problem."
   ]
  },
  {
   "cell_type": "code",
   "execution_count": 8,
   "metadata": {},
   "outputs": [],
   "source": [
    "minimize = mlrose.TSPOpt(length = 48, fitness_fn=fitness_object, maximize=False)"
   ]
  },
  {
   "cell_type": "markdown",
   "metadata": {},
   "source": [
    "We can then use a genetic algorithm to start minimizing the problem. mlrose will return a final state which is the best route to all the cities that were provided, while the fitness score will the be the length (in terms of euclidean distance) of that route. The parameters to the genetic algorithm will be a population size of 150, mutation probability of 0.2, and maximum attemtps of 10."
   ]
  },
  {
   "cell_type": "code",
   "execution_count": 12,
   "metadata": {},
   "outputs": [
    {
     "name": "stdout",
     "output_type": "stream",
     "text": [
      "The best route to all the cities is:  [19 31 21 12 27  8 14  5 41 20 11 18 13 33  1 25 44  3  9 47 34 23 36 17\n",
      " 35 42 32 46 37  7  0 24 45 15 30 28  4  2 10 26 16 39 43 29 22 38  6 40]\n",
      "The fitness score at this state is: 113973.69\n",
      "The elapsed time is: 11.44\n"
     ]
    }
   ],
   "source": [
    "start_time = time.time()\n",
    "final_state, final_fitness = mlrose.genetic_alg(minimize,  max_attempts=10, pop_size = 150, mutation_prob = 0.2, random_state = 237658)\n",
    "elapsed_time = time.time() - start_time\n",
    "print(\"The best route to all the cities is: \", final_state)\n",
    "print(\"The fitness score at this state is: {0:.2f}\".format(final_fitness))\n",
    "print(\"The elapsed time is: {0:.2f}\".format(elapsed_time))"
   ]
  },
  {
   "cell_type": "markdown",
   "metadata": {},
   "source": [
    "We are also using simulated annealing method to find the optimal path with maximum attemps of 500."
   ]
  },
  {
   "cell_type": "code",
   "execution_count": 11,
   "metadata": {},
   "outputs": [
    {
     "name": "stdout",
     "output_type": "stream",
     "text": [
      "The best route to all the cities is:  [31 38 20 11 32 35 27  6 17 43 14 22  4 47 41 25  3  1 10 29  5 36 18 26\n",
      " 16 42 19 46 12 24 13 33  2 39  0  7  8 37 30 45 21 15 40 28  9 34 44 23]\n",
      "The fitness score at this state is: 48459.59\n",
      "The elapsed time is: 14.05\n"
     ]
    }
   ],
   "source": [
    "start_time = time.time()\n",
    "final_state, final_fitness = mlrose.simulated_annealing(minimize, max_attempts=500, random_state = 237658)\n",
    "elapsed_time = time.time() - start_time\n",
    "print(\"The best route to all the cities is: \", final_state)\n",
    "print(\"The fitness score at this state is: {0:.2f}\".format(final_fitness))\n",
    "print(\"The elapsed time is: {0:.2f}\".format(elapsed_time))"
   ]
  },
  {
   "cell_type": "markdown",
   "metadata": {},
   "source": [
    "The optimal path for the att48 dataset (48 capitals of the US) is 13,374.\n",
    "\n",
    "We can see that simulated annealing method find the solution much faster and with smaller route cost than genetic algorithm. \n",
    "\n",
    "| method | Time Elapsed(s) | Min Cost Route |\n",
    "| --- | --- | --- |\n",
    "| Genetic Algorithm | 11.50 | 113973.69 |\n",
    "| Simulated Annealing | 13.70 | 48459.59 |"
   ]
  }
 ],
 "metadata": {
  "kernelspec": {
   "display_name": "Python 3",
   "language": "python",
   "name": "python3"
  },
  "language_info": {
   "codemirror_mode": {
    "name": "ipython",
    "version": 3
   },
   "file_extension": ".py",
   "mimetype": "text/x-python",
   "name": "python",
   "nbconvert_exporter": "python",
   "pygments_lexer": "ipython3",
   "version": "3.8.5"
  }
 },
 "nbformat": 4,
 "nbformat_minor": 4
}
